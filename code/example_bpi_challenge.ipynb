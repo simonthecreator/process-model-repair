{
 "cells": [
  {
   "cell_type": "code",
   "execution_count": null,
   "id": "3f8d3c1f",
   "metadata": {},
   "outputs": [],
   "source": [
    "import pm4py\n",
    "import importer\n",
    "from main_repair import MainRepair\n",
    "from helpers import sollmodell_helpers"
   ]
  },
  {
   "cell_type": "code",
   "execution_count": null,
   "id": "c8cd5037",
   "metadata": {},
   "outputs": [],
   "source": [
    "# path to xes file\n",
    "file_path = ''"
   ]
  },
  {
   "cell_type": "code",
   "execution_count": null,
   "id": "502bb25d",
   "metadata": {},
   "outputs": [],
   "source": [
    "log = importer.read_from_xes(file_path)"
   ]
  },
  {
   "cell_type": "code",
   "execution_count": null,
   "id": "aa55f86c",
   "metadata": {},
   "outputs": [],
   "source": [
    "# how many cases (traces)\n",
    "len(log['case:concept:name'].unique())"
   ]
  },
  {
   "cell_type": "code",
   "execution_count": null,
   "id": "8db8bffb",
   "metadata": {},
   "outputs": [],
   "source": [
    "# how many different events (\"event types\")\n",
    "len(log['concept:name'].unique())"
   ]
  },
  {
   "cell_type": "code",
   "execution_count": null,
   "id": "3126097c",
   "metadata": {},
   "outputs": [],
   "source": [
    "bpmn = pm4py.discover_bpmn_inductive(log)"
   ]
  },
  {
   "cell_type": "code",
   "execution_count": null,
   "id": "49fc52b7",
   "metadata": {},
   "outputs": [],
   "source": [
    "pm4py.view_bpmn(bpmn)"
   ]
  },
  {
   "cell_type": "code",
   "execution_count": null,
   "id": "5e720dd6",
   "metadata": {},
   "outputs": [],
   "source": [
    "durations = importer.read_durations(file_path=file_path)\n",
    "durations_dict = dict(zip(durations['case:concept:name'], durations.case_durations))"
   ]
  },
  {
   "cell_type": "code",
   "execution_count": null,
   "id": "bb901232",
   "metadata": {},
   "outputs": [],
   "source": [
    "durations.sort_values(by=['case_durations'])"
   ]
  },
  {
   "cell_type": "code",
   "execution_count": null,
   "id": "799cacd7",
   "metadata": {},
   "outputs": [],
   "source": [
    "# mean of all traces\n",
    "mean_all_traces = durations.case_durations.mean()\n",
    "print(f\"mean of all traces in seconds: {mean_all_traces}\")\n",
    "print(f\"mean in days: {mean_all_traces / 86400}\")\n",
    "\n",
    "# median\n",
    "median_all_traces = durations.case_durations.median()\n",
    "print(f\"median of all traces in seconds: {median_all_traces}\")\n",
    "print(f\"median in days: {median_all_traces / 86400}\")"
   ]
  },
  {
   "cell_type": "code",
   "execution_count": null,
   "id": "676120f4",
   "metadata": {},
   "outputs": [],
   "source": [
    "satisfactory_threshold = median_all_traces\n",
    "durations[durations['case_durations']<=satisfactory_threshold].shape"
   ]
  },
  {
   "attachments": {},
   "cell_type": "markdown",
   "id": "844607ff",
   "metadata": {},
   "source": [
    "### Create original model (reference model)"
   ]
  },
  {
   "cell_type": "code",
   "execution_count": null,
   "id": "b2c95054",
   "metadata": {},
   "outputs": [],
   "source": [
    "net_im_fm, filtered_log = sollmodell_helpers.create_soll_modell_by_variants(log=log, return_filtered_log=True)\n",
    "net, im, fm = net_im_fm"
   ]
  },
  {
   "cell_type": "code",
   "execution_count": null,
   "id": "95c37e6f",
   "metadata": {},
   "outputs": [],
   "source": [
    "pm4py.view_petri_net(net)"
   ]
  },
  {
   "attachments": {},
   "cell_type": "markdown",
   "id": "549bec05",
   "metadata": {},
   "source": [
    "#### Logs that are currently not represented by the model\n",
    "...and might be considered based on the KPI values"
   ]
  },
  {
   "cell_type": "code",
   "execution_count": null,
   "id": "293d2804",
   "metadata": {},
   "outputs": [],
   "source": [
    "exclude_cases_from_original_net = False\n",
    "\n",
    "if exclude_cases_from_original_net:\n",
    "    log_to_use = log[~log['case:concept:name'].isin(filtered_log['case:concept:name'])]\n",
    "    print(f\"Number of cases when cases that are used for original net are excluded: {len(log_to_use['case:concept:name'].unique())}\")\n",
    "else:\n",
    "    log_to_use = log"
   ]
  },
  {
   "attachments": {},
   "cell_type": "markdown",
   "id": "1f589151",
   "metadata": {},
   "source": [
    "#### Train/test split\n",
    "Default:\n",
    "* 67 % Training\n",
    "* 33 % Testing\n",
    "\n",
    "`Training data` is used to identify log and model moves and repair the model based on the respective alignments. <br>\n",
    "Traces in `test data` are used to split which fit with the original model and which fit with the repaired model. The KPI values of these two groups are compared to see whether the repaired model is advantageous for future logs."
   ]
  },
  {
   "cell_type": "code",
   "execution_count": null,
   "id": "9cd2128e",
   "metadata": {},
   "outputs": [],
   "source": [
    "repairer = MainRepair(log_to_use,\n",
    "                      net,\n",
    "                      im,\n",
    "                      fm,\n",
    "                      target_KPI_values_per_case = durations_dict,\n",
    "                      satisfactory_values=[satisfactory_threshold],\n",
    "                      lower_KPI_is_better=True)"
   ]
  },
  {
   "cell_type": "markdown",
   "id": "86392eca",
   "metadata": {},
   "source": [
    "#### Create alignments"
   ]
  },
  {
   "cell_type": "code",
   "execution_count": null,
   "id": "956e90ba",
   "metadata": {},
   "outputs": [],
   "source": [
    "repairer.main()"
   ]
  },
  {
   "cell_type": "code",
   "execution_count": null,
   "id": "c6d6218d",
   "metadata": {},
   "outputs": [],
   "source": [
    "repairer.print_conformant_kpi_values()"
   ]
  },
  {
   "attachments": {},
   "cell_type": "markdown",
   "id": "c5eb2eb5",
   "metadata": {},
   "source": [
    "Try to reduce invisble transitions with built-in functions (apparently not very effective)"
   ]
  },
  {
   "cell_type": "code",
   "execution_count": null,
   "id": "c1d012d7",
   "metadata": {},
   "outputs": [],
   "source": [
    "pm4py.view_petri_net(pm4py.analysis.reduce_petri_net_invisibles(repairer.repaired_net_IM))"
   ]
  },
  {
   "cell_type": "code",
   "execution_count": null,
   "id": "5ed682d5",
   "metadata": {},
   "outputs": [],
   "source": [
    "pm4py.view_petri_net(pm4py.reduce_petri_net_implicit_places(repairer.repaired_net_IM, repairer.repaired_im_IM, repairer.repaired_fm_IM)[0])"
   ]
  }
 ],
 "metadata": {
  "kernelspec": {
   "display_name": "Python 3 (ipykernel)",
   "language": "python",
   "name": "python3"
  },
  "language_info": {
   "codemirror_mode": {
    "name": "ipython",
    "version": 3
   },
   "file_extension": ".py",
   "mimetype": "text/x-python",
   "name": "python",
   "nbconvert_exporter": "python",
   "pygments_lexer": "ipython3",
   "version": "3.8.10"
  }
 },
 "nbformat": 4,
 "nbformat_minor": 5
}
