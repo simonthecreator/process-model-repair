{
 "cells": [
  {
   "cell_type": "code",
   "execution_count": null,
   "metadata": {},
   "outputs": [],
   "source": [
    "import pm4py\n",
    "import importer\n",
    "from helpers import sollmodell_helpers, warnings_off, data_prep\n",
    "from main_repair import MainRepair\n",
    "import pandas as pd\n",
    "import math"
   ]
  },
  {
   "cell_type": "code",
   "execution_count": null,
   "metadata": {},
   "outputs": [],
   "source": [
    "warnings_off.turn_off_warnings()"
   ]
  },
  {
   "cell_type": "code",
   "execution_count": null,
   "metadata": {},
   "outputs": [],
   "source": [
    "input_path = \"\"\n",
    "log = importer.read_from_input_file(input_path)"
   ]
  },
  {
   "cell_type": "code",
   "execution_count": null,
   "metadata": {},
   "outputs": [],
   "source": [
    "matnr = ''"
   ]
  },
  {
   "attachments": {},
   "cell_type": "markdown",
   "metadata": {},
   "source": [
    "kunde1: Fix datatype of `material_id`"
   ]
  },
  {
   "cell_type": "code",
   "execution_count": null,
   "metadata": {},
   "outputs": [],
   "source": [
    "log['material_id'] = log['material_id'].apply(lambda x: str(int(x)) if type(x)==float and not math.isnan(x) else str(x) if type(x)==int else x)"
   ]
  },
  {
   "cell_type": "code",
   "execution_count": null,
   "metadata": {},
   "outputs": [],
   "source": [
    "df_to_print = log.groupby('material_id').agg({'case:concept:name': 'nunique', 'concept:name': 'nunique'}).sort_values(by='case:concept:name', ascending=False)\n",
    "df_to_print = df_to_print[(df_to_print['concept:name'] >= 8) &( df_to_print['case:concept:name'] >= 100)]\n",
    "\n",
    "with pd.option_context('display.max_rows', None, 'display.max_columns', None):  # more options can be specified also\n",
    "    print(df_to_print)"
   ]
  },
  {
   "cell_type": "code",
   "execution_count": null,
   "metadata": {},
   "outputs": [],
   "source": [
    "log_matnr = log[log['material_id']==matnr]"
   ]
  },
  {
   "cell_type": "code",
   "execution_count": null,
   "metadata": {},
   "outputs": [],
   "source": [
    "assert log_matnr.shape[0] > 0, \"Material ID not in data.\""
   ]
  },
  {
   "attachments": {},
   "cell_type": "markdown",
   "metadata": {},
   "source": [
    "### Soll-Modell"
   ]
  },
  {
   "cell_type": "code",
   "execution_count": null,
   "metadata": {},
   "outputs": [],
   "source": [
    "generierter_soll_log = sollmodell_helpers.create_soll_agrelnr(log_matnr)"
   ]
  },
  {
   "cell_type": "code",
   "execution_count": null,
   "metadata": {},
   "outputs": [],
   "source": [
    "soll_m, soll_im, soll_fm = pm4py.discover_petri_net_inductive(generierter_soll_log)\n",
    "pm4py.view_petri_net(soll_m)"
   ]
  },
  {
   "cell_type": "code",
   "execution_count": null,
   "metadata": {},
   "outputs": [],
   "source": [
    "log_matnr_for_soll_m2 = log_matnr.__deepcopy__()\n",
    "log_matnr_for_soll_m2 = log_matnr_for_soll_m2[~log_matnr_for_soll_m2['time:timestamp'].isna()]\n",
    "\n",
    "soll_m2, soll_im2, soll_fm2 = pm4py.discover_petri_net_inductive(log_matnr_for_soll_m2,\n",
    "                                                                 noise_threshold=0.8)\n",
    "pm4py.view_petri_net(soll_m2)"
   ]
  },
  {
   "attachments": {},
   "cell_type": "markdown",
   "metadata": {},
   "source": [
    "### Soll-Modell Version 3: most common variants"
   ]
  },
  {
   "cell_type": "code",
   "execution_count": null,
   "metadata": {},
   "outputs": [],
   "source": [
    "soll_m3, soll_im3, soll_fm3 = sollmodell_helpers.create_soll_modell_by_variants(log_matnr_for_soll_m2,\n",
    "                                                                                variants_cover_pct=0.3)\n",
    "\n",
    "pm4py.view_petri_net(soll_m3, soll_im3, soll_fm3)"
   ]
  },
  {
   "attachments": {},
   "cell_type": "markdown",
   "metadata": {},
   "source": [
    "### Remove Outliers in KPI values\n",
    "\n",
    "OEE-Aspect `Performance` contains outliers, values that are far higher than 1, even if Performance is defined as the ratio of Processing duration divided by Planned processing duration. It is supposed to be around 1, but if there are faulty or wrong processing durations tracked or errors in planning, there are outlier values that are much higher.\n",
    "\n",
    "Outlier Remove: set all `Performance` values that are > 5 to 1. We do not want to remove outliers since each process step is part of a trace and for model repair we either incorporate a whole trace to the model or not at all. Therefore, each process step can be a valuable part of a trace even if Performance of this very step is an outlier and is set to 1 here."
   ]
  },
  {
   "cell_type": "code",
   "execution_count": null,
   "metadata": {},
   "outputs": [],
   "source": [
    "log_matnr = data_prep.remove_outliers_in_kpi_values(log_matnr, outliers_threshold = 5)"
   ]
  },
  {
   "attachments": {},
   "cell_type": "markdown",
   "metadata": {},
   "source": [
    "### Calculate target KPI"
   ]
  },
  {
   "cell_type": "code",
   "execution_count": null,
   "metadata": {},
   "outputs": [],
   "source": [
    "target_value_col = 'OEE'\n",
    "log_matnr[target_value_col] = log_matnr['Quality'] * log_matnr['Performance'] * log_matnr['Availability']"
   ]
  },
  {
   "attachments": {},
   "cell_type": "markdown",
   "metadata": {},
   "source": [
    "Group to get KPI values per trace (case:concept:name)"
   ]
  },
  {
   "cell_type": "code",
   "execution_count": null,
   "metadata": {},
   "outputs": [],
   "source": [
    "grouped_for_kpi = log_matnr.groupby('case:concept:name').agg({'concept:name': 'count', target_value_col: 'mean',\n",
    "                                                    'Quality': 'mean', 'Performance': 'mean', 'Availability': 'mean'}).reset_index()"
   ]
  },
  {
   "attachments": {},
   "cell_type": "markdown",
   "metadata": {},
   "source": [
    "Create categorical target values by grouping into either **higher or lower than mean**"
   ]
  },
  {
   "cell_type": "code",
   "execution_count": null,
   "metadata": {},
   "outputs": [],
   "source": [
    "target_cols = [target_value_col, 'Quality', 'Performance', 'Availability']"
   ]
  },
  {
   "attachments": {},
   "cell_type": "markdown",
   "metadata": {},
   "source": [
    "column `OEE` is now the OEE per case (case:concept:name)"
   ]
  },
  {
   "cell_type": "code",
   "execution_count": null,
   "metadata": {},
   "outputs": [],
   "source": [
    "log_matnr = log_matnr.merge(grouped_for_kpi[['case:concept:name']+target_cols], on='case:concept:name', suffixes=['_activity', ''])"
   ]
  },
  {
   "cell_type": "code",
   "execution_count": null,
   "metadata": {},
   "outputs": [],
   "source": [
    "kpi_dict = dict(zip(grouped_for_kpi['case:concept:name'], grouped_for_kpi[target_value_col]))"
   ]
  },
  {
   "attachments": {},
   "cell_type": "markdown",
   "metadata": {},
   "source": [
    "Get mean of target KPI and set as threshold (preliminary)"
   ]
  },
  {
   "cell_type": "code",
   "execution_count": null,
   "metadata": {},
   "outputs": [],
   "source": [
    "thresholds_dict = {\n",
    "    'mean': grouped_for_kpi[target_value_col].mean(),\n",
    "    'median': grouped_for_kpi[target_value_col].median(),\n",
    "    'q25': grouped_for_kpi[target_value_col].quantile(q=0.25),\n",
    "    'q75': grouped_for_kpi[target_value_col].quantile(q=0.75)\n",
    "}\n",
    "\n",
    "for name, value in thresholds_dict.items():\n",
    "    n_cases_greater_than_threshold = grouped_for_kpi[grouped_for_kpi[target_value_col]>=value].shape[0]\n",
    "    print(f\"{name}-value: {value} with {n_cases_greater_than_threshold} cases greater than {name}-threshold\")"
   ]
  },
  {
   "cell_type": "code",
   "execution_count": null,
   "metadata": {},
   "outputs": [],
   "source": [
    "#satisfactory_threshold = q75\n",
    "satisfactory_threshold = thresholds_dict['q25']\n",
    "print(satisfactory_threshold)\n",
    "grouped_for_kpi[grouped_for_kpi[target_value_col]>=satisfactory_threshold].shape"
   ]
  },
  {
   "cell_type": "code",
   "execution_count": null,
   "metadata": {},
   "outputs": [],
   "source": [
    "log_matnr = log_matnr[log_matnr['time:timestamp'].notna()]"
   ]
  },
  {
   "attachments": {},
   "cell_type": "markdown",
   "metadata": {},
   "source": [
    "### Set up MainRepairer object"
   ]
  },
  {
   "cell_type": "code",
   "execution_count": null,
   "metadata": {},
   "outputs": [],
   "source": [
    "soll_model_1 = ('Soll Modell PLANNED', soll_m, soll_im, soll_fm)\n",
    "soll_model_2 = ('Soll Modell DISCOVERED', soll_m2, soll_im2, soll_fm2)\n",
    "\n",
    "for soll_m_tuple in [soll_model_2]: # soll_model_1,\n",
    "  print(soll_m_tuple[0])\n",
    "  repairer = MainRepair(log_matnr,\n",
    "                      soll_m_tuple[1],\n",
    "                      soll_m_tuple[2],\n",
    "                      soll_m_tuple[3],\n",
    "                      target_KPI_values_per_case = kpi_dict,\n",
    "                      satisfactory_values=[satisfactory_threshold])\n",
    "  \n",
    "  repairer.main()\n",
    "\n",
    "  repairer.print_conformant_kpi_values()"
   ]
  }
 ],
 "metadata": {
  "kernelspec": {
   "display_name": "Python 3",
   "language": "python",
   "name": "python3"
  },
  "language_info": {
   "codemirror_mode": {
    "name": "ipython",
    "version": 3
   },
   "file_extension": ".py",
   "mimetype": "text/x-python",
   "name": "python",
   "nbconvert_exporter": "python",
   "pygments_lexer": "ipython3",
   "version": "3.8.10"
  },
  "orig_nbformat": 4
 },
 "nbformat": 4,
 "nbformat_minor": 2
}
