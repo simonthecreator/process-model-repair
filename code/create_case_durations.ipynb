{
 "cells": [
  {
   "cell_type": "code",
   "execution_count": null,
   "id": "a53f985e",
   "metadata": {},
   "outputs": [],
   "source": [
    "import pm4py\n",
    "import importer\n",
    "import pandas as pd"
   ]
  },
  {
   "cell_type": "code",
   "execution_count": null,
   "id": "6e0c231a",
   "metadata": {},
   "outputs": [],
   "source": [
    "file_name = ''\n",
    "\n",
    "file_dir = ''\n",
    "\n",
    "path_to_file = file_dir + file_name"
   ]
  },
  {
   "cell_type": "code",
   "execution_count": null,
   "id": "514b3c4d",
   "metadata": {},
   "outputs": [],
   "source": [
    "log = importer.read_from_xes(path_to_file+'.xes')"
   ]
  },
  {
   "cell_type": "code",
   "execution_count": null,
   "id": "5243c7c0",
   "metadata": {},
   "outputs": [],
   "source": [
    "log.shape"
   ]
  },
  {
   "cell_type": "code",
   "execution_count": null,
   "id": "ad1c8619",
   "metadata": {},
   "outputs": [],
   "source": [
    "log.columns"
   ]
  },
  {
   "attachments": {},
   "cell_type": "markdown",
   "id": "5c5904fd",
   "metadata": {},
   "source": [
    "Case durations"
   ]
  },
  {
   "cell_type": "code",
   "execution_count": null,
   "id": "0833ca7a",
   "metadata": {},
   "outputs": [],
   "source": [
    "case_durations_dict = {}\n",
    "counter = 0\n",
    "for case_id in log['case:concept:name'].unique():\n",
    "    print(f\"{str(counter)}/{len(log['case:concept:name'].unique())}\")\n",
    "    case_durations_dict[case_id] = pm4py.stats.get_case_duration(log, case_id)\n",
    "    counter += 1"
   ]
  },
  {
   "cell_type": "code",
   "execution_count": null,
   "id": "db0d5526",
   "metadata": {},
   "outputs": [],
   "source": [
    "log['case_durations'] = log['case:concept:name'].map(case_durations_dict)"
   ]
  },
  {
   "cell_type": "code",
   "execution_count": null,
   "id": "287bb757",
   "metadata": {},
   "outputs": [],
   "source": [
    "log.to_csv(path_to_file+'_case_durations.csv', index=False)"
   ]
  },
  {
   "cell_type": "code",
   "execution_count": null,
   "id": "ecaeab29",
   "metadata": {},
   "outputs": [],
   "source": [
    "log = pd.read_csv(path_to_file+'_case_durations.csv')"
   ]
  },
  {
   "cell_type": "code",
   "execution_count": null,
   "id": "0231a1a7",
   "metadata": {},
   "outputs": [],
   "source": [
    "relevant_log = log[['case:concept:name','case_durations']]"
   ]
  },
  {
   "cell_type": "code",
   "execution_count": null,
   "id": "74e6c6d1",
   "metadata": {},
   "outputs": [],
   "source": [
    "case_durations = relevant_log.drop_duplicates()\n",
    "case_durations.to_csv(path_to_file+'_durations.csv', index=False)"
   ]
  }
 ],
 "metadata": {
  "kernelspec": {
   "display_name": "Python 3 (ipykernel)",
   "language": "python",
   "name": "python3"
  },
  "language_info": {
   "codemirror_mode": {
    "name": "ipython",
    "version": 3
   },
   "file_extension": ".py",
   "mimetype": "text/x-python",
   "name": "python",
   "nbconvert_exporter": "python",
   "pygments_lexer": "ipython3",
   "version": "3.8.10"
  }
 },
 "nbformat": 4,
 "nbformat_minor": 5
}
